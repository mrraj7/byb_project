{
 "cells": [
  {
   "cell_type": "markdown",
   "metadata": {},
   "source": [
    "Web scrapping using BeautifulSoup"
   ]
  },
  {
   "cell_type": "code",
   "execution_count": 1,
   "metadata": {},
   "outputs": [],
   "source": [
    "import requests\n",
    "from bs4 import BeautifulSoup"
   ]
  },
  {
   "cell_type": "code",
   "execution_count": 2,
   "metadata": {},
   "outputs": [],
   "source": [
    "url = 'https://www.theguardian.com/international'\n",
    "news_get_request = requests.get(url)"
   ]
  },
  {
   "cell_type": "code",
   "execution_count": 4,
   "metadata": {},
   "outputs": [],
   "source": [
    "news = BeautifulSoup(news_get_request.content, 'html.parser')"
   ]
  },
  {
   "cell_type": "code",
   "execution_count": 5,
   "metadata": {},
   "outputs": [
    {
     "data": {
      "text/plain": [
       "[<h3 class=\"card-headline dcr-1e1i0t4\"><div class=\"dcr-1i9r8d9\" style=\"color:var(--card-kicker-text);background-color:transparent;\">Israel</div><span class=\"show-underline dcr-1ay6c8s\">IDF transfers powers in occupied West Bank to pro-settler civil servants</span></h3>,\n",
       " <h3 class=\"card-sublink-headline dcr-1c713ff\"><a class=\"dcr-qcv1uw\" href=\"/world/article/2024/jun/20/cyprus-stresses-neutrality-after-hezbollah-threat-over-israel-war\"><div class=\"dcr-1nlvwyr\" style=\"color:var(--card-kicker-text);background-color:transparent;\">Cyprus</div><span class=\"show-underline dcr-1ay6c8s\">Officials stress neutrality after Hezbollah threat over war</span></a></h3>,\n",
       " <h3 class=\"card-headline dcr-1buqed9\"><div class=\"dcr-1i9r8d9\" style=\"color:var(--card-kicker-text);background-color:transparent;\">Mecca</div><span class=\"show-underline dcr-1ay6c8s\">More than 1,000 hajj pilgrims die amid temperatures approaching 52C</span></h3>]"
      ]
     },
     "execution_count": 5,
     "metadata": {},
     "output_type": "execute_result"
    }
   ],
   "source": [
    "headlines = news.findAll('h3')\n",
    "headlines[0:3]"
   ]
  },
  {
   "cell_type": "code",
   "execution_count": 6,
   "metadata": {},
   "outputs": [
    {
     "data": {
      "text/plain": [
       "['IsraelIDF\\xa0transfers powers in occupied West Bank to pro-settler civil servants',\n",
       " 'CyprusOfficials stress neutrality after Hezbollah threat over war',\n",
       " 'MeccaMore than 1,000 hajj pilgrims die amid temperatures approaching 52C',\n",
       " 'Extreme weatherRecord high temperatures sweep US north-east',\n",
       " 'FilmDonald Sutherland, Don’t Look Now and Hunger Games actor, dies aged 88']"
      ]
     },
     "execution_count": 6,
     "metadata": {},
     "output_type": "execute_result"
    }
   ],
   "source": [
    "all_headlines = [headline.text for headline in headlines]\n",
    "all_headlines[0:5]"
   ]
  },
  {
   "cell_type": "code",
   "execution_count": null,
   "metadata": {},
   "outputs": [],
   "source": []
  }
 ],
 "metadata": {
  "kernelspec": {
   "display_name": "Python 3",
   "language": "python",
   "name": "python3"
  },
  "language_info": {
   "codemirror_mode": {
    "name": "ipython",
    "version": 3
   },
   "file_extension": ".py",
   "mimetype": "text/x-python",
   "name": "python",
   "nbconvert_exporter": "python",
   "pygments_lexer": "ipython3",
   "version": "3.12.2"
  }
 },
 "nbformat": 4,
 "nbformat_minor": 2
}
